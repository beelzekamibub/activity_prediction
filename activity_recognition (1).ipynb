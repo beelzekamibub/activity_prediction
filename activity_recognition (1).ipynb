{
  "nbformat": 4,
  "nbformat_minor": 0,
  "metadata": {
    "colab": {
      "name": "activity recognition.ipynb",
      "provenance": [],
      "collapsed_sections": []
    },
    "kernelspec": {
      "name": "python3",
      "display_name": "Python 3"
    },
    "language_info": {
      "name": "python"
    }
  },
  "cells": [
    {
      "cell_type": "code",
      "source": [
        "!pip install pafy youtube-dl==2020.12.2 moviepy"
      ],
      "metadata": {
        "id": "XJkZ61tvdqmH"
      },
      "execution_count": null,
      "outputs": []
    },
    {
      "cell_type": "code",
      "source": [
        "!pip3 install imageio==2.4.1"
      ],
      "metadata": {
        "id": "dDEwYusXeg2T"
      },
      "execution_count": null,
      "outputs": []
    },
    {
      "cell_type": "code",
      "execution_count": null,
      "metadata": {
        "id": "OvgqouBbdM4U"
      },
      "outputs": [],
      "source": [
        "import os\n",
        "import cv2\n",
        "import pafy\n",
        "import math\n",
        "import random\n",
        "import numpy as np\n",
        "import datetime as dt\n",
        "import tensorflow as tf\n",
        "from collections import deque\n",
        "import matplotlib.pyplot as plt\n",
        "from moviepy.editor import *\n",
        "from sklearn.model_selection import train_test_split\n",
        "from tensorflow.keras.layers import *\n",
        "from tensorflow.keras.models import Sequential\n",
        "from tensorflow.keras.utils import to_categorical,plot_model\n",
        "from tensorflow.keras.callbacks import EarlyStopping"
      ]
    },
    {
      "cell_type": "code",
      "source": [
        "seed_constant=27\n",
        "np.random.seed(seed_constant)\n",
        "random.seed(seed_constant)\n",
        "tf.random.set_seed(seed_constant)\n",
        "\n",
        "plt.figure(figsize=(20,20))\n",
        "all_classes_names=os.listdir('/content/drive/MyDrive/data/UCF50')\n",
        "\n",
        "random_range=random.sample(range(len(all_classes_names)),20)\n",
        "print(all_classes_names)\n",
        "random_range\n"
      ],
      "metadata": {
        "id": "-55fdS3jdo1g"
      },
      "execution_count": null,
      "outputs": []
    },
    {
      "cell_type": "code",
      "source": [
        "for counter, random_index in enumerate(random_range,1):\n",
        "    selected_class_name=all_classes_names[random_index]\n",
        "    print(selected_class_name)\n",
        "    video_files_names_list=os.listdir(f'/content/drive/MyDrive/data/UCF50/{selected_class_name}')\n",
        "    print(f'/content/drive/MyDrive/data/UCF50/{selected_class_name}')\n",
        "    print(video_files_names_list)\n",
        "    selected_video_file_name=random.choice(video_files_names_list)\n",
        "    video_reader=cv2.VideoCapture(f'UCF50/{selected_class_name}/{selected_video_file_name}')\n",
        "    _,bgr_frame=video_reader.read()\n",
        "    video_reader.release()\n",
        "    rgb_frame=cv2.cvtColor(bgr_frame,cv2.COLOR_BGR2RGB)\n",
        "    cv2.putText(rgb_frame,selected_class_name,(10,30),cv2.FONT_HERSHEY_SIMPLEX,1,(255,255,255),2)\n",
        "    plt.subplot(5,4,counter)\n",
        "    plt.imshow(rgb_frame)\n",
        "    cv2.imshow('window',rgb_frame)\n",
        "    if cv2.waitKey(100) & 0xFF ==ord('q') :\n",
        "        cv2.destroyAllWindows()\n",
        "        break\n",
        "    plt.axis('off')\n",
        "\n",
        "image_height,image_width=64,64\n",
        "sequence_length=20\n",
        "dataset_dir='UCF50'\n",
        "classes_list=['BaseballPitch', 'Basketball', 'BenchPress', 'Biking', 'Billiards', 'BreastStroke', 'CleanAndJerk', 'Diving', 'Drumming', 'Fencing', 'GolfSwing', 'HighJump', 'HorseRace', 'HorseRiding', 'HulaHoop', 'JavelinThrow', 'JugglingBalls', 'JumpingJack', 'JumpRope', 'Kayaking', 'Lunges', 'MilitaryParade', 'Mixing', 'Nunchucks', 'PizzaTossing', 'PlayingGuitar', 'PlayingPiano', 'PlayingTabla', 'PlayingViolin', 'PoleVault', 'PommelHorse', 'PullUps', 'Punch', 'PushUps', 'RockClimbingIndoor', 'RopeClimbing', 'Rowing', 'SalsaSpin', 'SkateBoarding', 'Skiing', 'Skijet', 'SoccerJuggling', 'Swing', 'TaiChi', 'TennisSwing', 'ThrowDiscus', 'TrampolineJumping', 'VolleyballSpiking', 'WalkingWithDog', 'YoYo']\n"
      ],
      "metadata": {
        "id": "UiLm5Pfifz_c"
      },
      "execution_count": null,
      "outputs": []
    },
    {
      "cell_type": "code",
      "source": [
        "def frames_extraction(video_path):\n",
        "    frames_list=[]\n",
        "    video_reader=cv2.VideoCapture(video_path)\n",
        "    video_frames_count=int(video_reader.get(cv2.CAP_PROP_FRAME_COUNT))\n",
        "    skip_frames_window=max(int(video_frames_count/sequence_length),1)\n",
        "    for frame_counter in range(sequence_length):\n",
        "        video_reader.set(cv2.CAP_PROP_POS_FRAMES,frame_counter*skip_frames_window)\n",
        "        success,frame=video_reader.read()\n",
        "        if not success:\n",
        "            break\n",
        "        resized_frame=cv2.resize(frame,(image_height,image_width))\n",
        "        normalized_frame=resized_frame/255\n",
        "        frames_list.append(normalized_frame)\n",
        "    video_reader.release()\n",
        "    return frames_list\n"
      ],
      "metadata": {
        "id": "eudp5E48f9lc"
      },
      "execution_count": null,
      "outputs": []
    },
    {
      "cell_type": "code",
      "source": [
        "def create_dataset():\n",
        "    features=[]\n",
        "    labels=[]\n",
        "    video_files_paths=[]\n",
        "    for class_index,class_name in enumerate(classes_list):\n",
        "        print(f'extracting data of class {class_name}')\n",
        "        files_list=os.listdir(os.path.join(dataset_dir,class_name))\n",
        "        for file_name in files_list:\n",
        "            video_file_path=os.path.join(dataset_dir,class_name,file_name)\n",
        "            frames=frames_extraction(video_file_path)\n",
        "            if len(frames)==sequence_length:\n",
        "                features.append(frames)\n",
        "                labels.append(class_index)\n",
        "                video_files_paths.append(video_file_path)\n",
        "    features=np.asarray(features)\n",
        "    labels=np.asarray(labels)\n",
        "\n",
        "    return features,labels,video_files_paths\n"
      ],
      "metadata": {
        "id": "byr9Gr0Pf9-K"
      },
      "execution_count": null,
      "outputs": []
    },
    {
      "cell_type": "code",
      "source": [
        "features,labels,video_files_paths=create_dataset()\n",
        "one_hot_encoded_labels=to_categorical(labels)\n",
        "\n",
        "xtrain,xtest,ytrain,ytest=train_test_split(features,one_hot_encoded_labels,test_size=0.25,shuffel=True,random_state=seed_constant)\n"
      ],
      "metadata": {
        "id": "bT_osVP9gACE"
      },
      "execution_count": null,
      "outputs": []
    },
    {
      "cell_type": "code",
      "source": [
        "def create_model():\n",
        "    model=Sequential()\n",
        "    model.add(ConvLSTM2D(filters=4,kernel_size=(3,3),activation='tanh',\n",
        "                         data_format=\"channels_last\",\n",
        "                         recurrent_dropout=0.2,return_sequences=True,\n",
        "                         input_shape=(sequence_length,image_height,image_width,3)))\n",
        "\n",
        "    model.add(MaxPooling3D(pool_size=(1,2,2),padding='same',data_format='channels_last'))\n",
        "    model.add(TimeDistributed(Dropout(0.2)))\n",
        "\n",
        "    model.add(ConvLSTM2D(filters=8,kernel_size=(3,3),activation='tanh',\n",
        "                         data_format=\"channels_last\",\n",
        "                         recurrent_dropout=0.2,return_sequences=True))\n",
        "\n",
        "    model.add(MaxPooling3D(pool_size=(1,2,2),padding='same',data_format='channels_last'))\n",
        "    model.add(TimeDistributed(Dropout(0.2)))\n",
        "\n",
        "    model.add(ConvLSTM2D(filters=14,kernel_size=(3,3),activation='tanh',\n",
        "                         data_format=\"channels_last\",\n",
        "                         recurrent_dropout=0.2,return_sequences=True))\n",
        "\n",
        "    model.add(MaxPooling3D(pool_size=(1,2,2),padding='same',data_format='channels_last'))\n",
        "    model.add(TimeDistributed(Dropout(0.2)))\n",
        "\n",
        "    model.add(ConvLSTM2D(filters=16,kernel_size=(3,3),activation='tanh',\n",
        "                         data_format=\"channels_last\",\n",
        "                         recurrent_dropout=0.2,return_sequences=True))\n",
        "\n",
        "    model.add(MaxPooling3D(pool_size=(1,2,2),padding='same',data_format='channels_last'))\n",
        "    #model.add(TimeDistributed(Dropout(0.2)))\n",
        "    \n",
        "    model.add(Flatten())\n",
        "    model.add(Dense(len(classes_list),activation='softmax'))\n",
        "\n",
        "    model.summary()\n",
        "    return model\n"
      ],
      "metadata": {
        "id": "74cEP7zYgBxP"
      },
      "execution_count": null,
      "outputs": []
    },
    {
      "cell_type": "code",
      "source": [
        "model=create_model()\n",
        "print('model created')\n",
        "print(model.summary())\n"
      ],
      "metadata": {
        "id": "zRIkEZLmgE9_"
      },
      "execution_count": null,
      "outputs": []
    },
    {
      "cell_type": "code",
      "source": [
        "plot_model(model,to_file='model.png',show_shapes=True,show_layer_names=True)\n",
        "\n",
        "early_stopping_callback=EarlyStopping(monitor='val_loss',patience=10,mode='min',restore_best_weights=True)\n",
        "model.compile(loss='categorical_crossentropy',optimizer='Adam',metrics=['accuracy'])\n",
        "history=model.fit(x=xtrain,y=ytrain,epochs=50,batch_size=4,shuffle=True,validation_split=0.2,callbacks=[early_stopping_callback])\n"
      ],
      "metadata": {
        "id": "jYBaekxYgHB7"
      },
      "execution_count": null,
      "outputs": []
    },
    {
      "cell_type": "code",
      "source": [
        "\n",
        "def plot_loss_curves(history):\n",
        "  loss = history['loss']\n",
        "  val_loss = history['val_loss']\n",
        "  accuracy = history['accuracy']\n",
        "  val_accuracy = history['val_accuracy']\n",
        "  epochs = range(len(history['loss']))\n",
        "  plt.plot(epochs, loss, label='training_loss')\n",
        "  plt.plot(epochs, val_loss, label='val_loss')\n",
        "  plt.title('Loss')\n",
        "  plt.xlabel('Epochs')\n",
        "  plt.legend()\n",
        "  plt.figure()\n",
        "  plt.plot(epochs, accuracy, label='training_accuracy')\n",
        "  plt.plot(epochs, val_accuracy, label='val_accuracy')\n",
        "  plt.title('Accuracy')\n",
        "  plt.xlabel('Epochs')\n",
        "  plt.legend()\n"
      ],
      "metadata": {
        "id": "Bw0tdjD9gL97"
      },
      "execution_count": null,
      "outputs": []
    },
    {
      "cell_type": "code",
      "source": [
        "plot_loss_curves(history.history)\n",
        "\n",
        "evalutaion_history=model.evaluate(xtest,ytest)\n",
        "\n",
        "loss,acc=evaluation_history\n",
        "\n",
        "\n",
        "date_format='%Y_%m_%d__%H_%M_%S'\n",
        "curr_date=dt.datetime.now()\n",
        "curr_date_str=dt.datetime.strftime(curr_date,date_format)\n",
        "model.save(f'activity_model{curr_date_str}_loss{loss}_accuracy{acc}.h5')\n",
        "\n",
        "\n"
      ],
      "metadata": {
        "id": "dpEw61BCgZDc"
      },
      "execution_count": null,
      "outputs": []
    },
    {
      "cell_type": "code",
      "source": [
        "def create_lstm_cnn_model():\n",
        "    model=Sequential()\n",
        "    model.add(TimeDistributed(Conv2D(16,(3,3),padding='same',activation='relu'),\n",
        "                              input_shape=(sequence_length,image_height,image_width,3)))\n",
        "    model.add(TimeDistributed(MaxPooling2D((4,4))))\n",
        "    model.add(TimeDistributed(Dropout(0.25)))\n",
        "    \n",
        "    model.add(TimeDistributed(Conv2D(32,(3,3),padding='same',activation='relu')))\n",
        "    model.add(TimeDistributed(MaxPooling2D((4,4))))\n",
        "    model.add(TimeDistributed(Dropout(0.25)))\n",
        "\n",
        "    model.add(TimeDistributed(Conv2D(64,(3,3),padding='same',activation='relu')))\n",
        "    model.add(TimeDistributed(MaxPooling2D((4,4))))\n",
        "    model.add(TimeDistributed(Dropout(0.25)))\n",
        "\n",
        "    model.add(TimeDistributed(Conv2D(64,(3,3),padding='same',activation='relu')))\n",
        "    model.add(TimeDistributed(MaxPooling2D((4,4))))\n",
        "    #model.add(TimeDistributed(Dropout(0.25)))\n",
        "\n",
        "    model.add(TimeDistributed(Flatten()))\n",
        "    model.add(lstm(32))\n",
        "    model.add(Dense(len(classes_list),activation='softmax'))\n",
        "\n",
        "    model.summary()\n",
        "\n",
        "    return model\n",
        "\n",
        "model=create_lstm_cnn_model()\n",
        "print('model created')\n",
        "early_stopping_callback=EarlyStopping(monitor='val_loss',patience=15,mode='min',restore_best_weights=True)\n",
        "model.compile(loss='categorical_crossentropy',optimizer='Adam',metrics=['accuracy'])\n",
        "history=model.fit(x=xtrain,y=ytrain,epochs=70,batch_size=4,shuffle=True,validation_split=0.2,callbacks=[early_stopping_callback])\n",
        "plot_loss_curves(history.history)\n",
        "\n",
        "evalutaion_history=model.evaluate(xtest,ytest)\n",
        "\n",
        "loss,acc=evaluation_history\n",
        "\n",
        "date_format='%Y_%m_%d__%H_%M_%S'\n",
        "curr_date=dt.datetime.now()\n",
        "curr_date_str=dt.datetime.strftime(curr_date,date_format)\n",
        "model.save(f'activity_model2_lstm_and_cnn{curr_date_str}_loss{loss}_accuracy{acc}.h5')\n"
      ],
      "metadata": {
        "id": "BYGyO6HugeZp"
      },
      "execution_count": null,
      "outputs": []
    },
    {
      "cell_type": "code",
      "source": [
        "def download_videos(url,out_dir):\n",
        "    video=pafy.new(url)\n",
        "    title=video.title\n",
        "    video_best=video.getbest()\n",
        "    output_path=f'{out_dir}/{title}.mp4'\n",
        "    video_best.download(filepath=output_path,quiet=True)\n",
        "    return title\n"
      ],
      "metadata": {
        "id": "_2irWd-1gjAn"
      },
      "execution_count": null,
      "outputs": []
    },
    {
      "cell_type": "code",
      "source": [
        "test_video_dir='test_videos'\n",
        "os.makedirs(test_video_dir,exist_ok=True)\n",
        "video=pafy.new('https://www.youtube.com/watch?v=x2AWg_Z5WkA')\n",
        "video_title=download_videos('https://www.youtube.com/watch?v=x2AWg_Z5WkA',\n",
        "                            test_video_dir)\n",
        "input_video_file_path=f'{test_video_dir}/{video_title}.mp4'\n"
      ],
      "metadata": {
        "id": "paWZEWecgl7j"
      },
      "execution_count": null,
      "outputs": []
    },
    {
      "cell_type": "code",
      "source": [
        "def predict_on_video(path,out_path,sequence_length):\n",
        "    \n",
        "    video_reader=cv2.VideoCapture(path)\n",
        "    og_w=int(video_reader.get(cv2.CAP_PROP_FRAME_WIDTH))\n",
        "    og_h=int(video_reader.get(cv2.CAP_PROP_FRAME_HEIGHT))\n",
        "\n",
        "    video_writer=cv2.VideoWriter(out_path,cv2.VideoWriter_fourcc('M','P','4','V'),\n",
        "                                 video_reader.get(cv2.CAP_PROP_FPS),\n",
        "                                 (og_w,og_h))\n",
        "    frames_q=deque(maxlen=SEQUENCE_LENGTH)\n",
        "    predicted_class=''\n",
        "    while video_reader.isOpened():\n",
        "        ok,frame=video_reader.read()\n",
        "        if not ok:\n",
        "            break\n",
        "        resized_frame=cv2.resize(frame,(image_height,image_width))\n",
        "        normalized_frame=resized_frame/255\n",
        "        frames_q.append(normalized_frame)\n",
        "        if len(frames_q)==SEQUENCE_LENGTH:\n",
        "            predicted_labels=model.predict(np.expand_dims(frames,axis=0))[0]\n",
        "            predicted_label=np.argmax(predicted_labels)\n",
        "            predicted_class=classes_list[predicted_label]\n",
        "\n",
        "        cv2.putText(frame,predicted_class,(10,30),cv2.FONT_HERSHEY_SIMPLEX,1,(0,255,0),2)\n",
        "        video_writer.write(frame)\n",
        "\n",
        "    video_reader.release()\n",
        "    video_writer.release()\n"
      ],
      "metadata": {
        "id": "akO1noUygpxM"
      },
      "execution_count": null,
      "outputs": []
    },
    {
      "cell_type": "code",
      "source": [
        ""
      ],
      "metadata": {
        "id": "EXEkdgX0gwGm"
      },
      "execution_count": null,
      "outputs": []
    }
  ]
}